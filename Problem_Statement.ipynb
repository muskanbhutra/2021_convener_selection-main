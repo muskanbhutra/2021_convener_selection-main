{
 "cells": [
  {
   "cell_type": "markdown",
   "metadata": {},
   "source": [
    "# Krittika Convener Selection Assignments\n",
    "## Python Assignment"
   ]
  },
  {
   "cell_type": "markdown",
   "metadata": {},
   "source": [
    "1. You may find the **KSP tutorials** useful: https://github.com/krittikaiitb/tutorials - Tutorials 1,2,3, and 4 are particularly relevant. These cover basic `python`, `numpy`, functions in `python` and `matplotlib` respectively.\n",
    "\n",
    "2. A helpful reminder that executing a cell with `help` (for example: `help(np.loadtxt)` or `np.loadtxt?`) will show the documentation for that function.\n",
    "\n",
    "3. The use of internet is completely ALLOWED for solving this assignment.\n",
    "4. Feel free to use multiple cells for your solutions. But keep them separate for each question (don't use a cell to solve Q1 after Q2)"
   ]
  },
  {
   "cell_type": "markdown",
   "metadata": {},
   "source": [
    "### Q1: Parsing Form Responses (10 points)\n",
    "Suppose you have collected responses from various IITB students using a google form and the responses have been extracted as a csv file. You want to mail all the people who have filled the form now. The email client used by LDAP mail accepts a single string of comma separated email adresses (note that {rollnumber}@iitb.ac.in will redirect to respective student). \n",
    "\n",
    "Your task is to parse the CSV file and generate the comma separated string."
   ]
  },
  {
   "cell_type": "markdown",
   "metadata": {},
   "source": [
    "For example, if the csv file contains \n",
    "\n",
    "| Sr. No | Name | Roll Number |\n",
    "| -------- | -------- | -------- |\n",
    "| 1     | Newton     | 2000001    |\n",
    "| 2     | Galileo     | 2000005    |\n",
    "| 3     | Kepler     | 2000010    |\n",
    "\n",
    "\n",
    "Then your program should print the string `2000001@iitb.ac.in, 2000005@iitb.ac.in, 2000010@iitb.ac.in`"
   ]
  },
  {
   "cell_type": "code",
   "execution_count": 2,
   "metadata": {},
   "outputs": [],
   "source": [
    "file1 = \"Dataset_Q1.csv\""
   ]
  },
  {
   "cell_type": "markdown",
   "metadata": {},
   "source": [
    "You may find `numpy.loadtxt` or `numpy.genfromtxt` to be useful here. Feel free to use any method you wish to load the data from `file1`.\n",
    "\n",
    "Write your code as a function that takes in the data file as input and returns the relevant string."
   ]
  },
  {
   "cell_type": "code",
   "execution_count": 8,
   "metadata": {},
   "outputs": [],
   "source": [
    "# Solution Code\n",
    "import numpy as np\n",
    "def get_emails(file):\n",
    "    data = np.loadtxt(file, delimiter=',', dtype=\"str\")\n",
    "    roll = data[:,2]\n",
    "    result = \"\"\n",
    "    for i in range(0, roll.size):\n",
    "        result = result + \", \" + roll[i] + \"@iitb.ac.in\"\n",
    "    return result    "
   ]
  },
  {
   "cell_type": "code",
   "execution_count": 16,
   "metadata": {},
   "outputs": [
    {
     "name": "stdout",
     "output_type": "stream",
     "text": [
      " 20000003@iitb.ac.in, 20000006@iitb.ac.in, 20010000@iitb.ac.in, 19020000@iitb.ac.in, 20000304@iitb.ac.in,\n"
     ]
    }
   ],
   "source": [
    "print(get_emails(file1))"
   ]
  },
  {
   "cell_type": "markdown",
   "metadata": {},
   "source": [
    "### Q2: The moons of Endor (20 points)\n",
    "\n",
    "Endor is a fictional planet from the [Star Wars](https://starwars.fandom.com/wiki/Endor_(planet)) universe which has 9 major moons. The masses, semimajor axes and time periods of each of these moons is given in `Dataset_Q2.csv`. The masses (*m*) are given as a fraction of the mass of Endor itself, the semimajor axis (*a*) as a fraction of the radius of Endor and time period (*T*) in Endor days.\n",
    "\n",
    "<b style='color:red;'>Note for Star Wars fans</b>: First, are you ok? Second, the values are fabricated, don't go looking for reasons why the data can't hold up to random in-universe information."
   ]
  },
  {
   "cell_type": "code",
   "execution_count": null,
   "metadata": {},
   "outputs": [],
   "source": [
    "file2 = 'Dataset_Q2.csv'"
   ]
  },
  {
   "cell_type": "markdown",
   "metadata": {},
   "source": [
    "Recall the usual Kepler's third law which can be written as \n",
    "$$\\frac{a^{3/2}}{T} = \\sqrt{\\frac{G(M_{planet}+m_{moon})}{4\\pi^2}}$$\n",
    "where $a$ is the semimajor axis, $T$ is the time period, $M_{planet}$ is the mass of the planet, $m_{moon}$ is the mass of the moon, and $G$ is the universal gravitational constant.\n",
    "\n",
    "\n",
    "We plan to fit the data we have to the power law relation \n",
    "$$\\frac{a^{x}}{T} = \\sqrt{\\frac{G(M_{planet}+m_{moon})}{4\\pi^2}}$$\n",
    "\n",
    "Your task is to determine the constant $x$ by fitting the given 'experimental' data and decide whether Kepler's law (with $x$ = 1.5) holds, in the galaxy far far away (where star wars happens). Also find the value of $G$ in the given unit system.\n",
    "\n",
    "\n",
    "Hint: `numpy.polyfit` or `scipy.optimize.curve_fit` (and maybe `numpy.log`) might be useful for solving this question."
   ]
  },
  {
   "cell_type": "code",
   "execution_count": 4,
   "metadata": {},
   "outputs": [
    {
     "name": "stdout",
     "output_type": "stream",
     "text": [
      "m: Mass of moon as a fraction of mass of Endor\n",
      "t: Time Period in Endor days\n",
      "a: Semi-major axis as a fraction of radius of Endor\n",
      "b: (4*pi*pi/G)^(1/2)\n"
     ]
    },
    {
     "data": {
      "image/png": "[encoded data removed]",
      "text/plain": [
       "<Figure size 432x288 with 1 Axes>"
      ]
     },
     "metadata": {
      "needs_background": "light"
     },
     "output_type": "display_data"
    }
   ],
   "source": [
    "# Code here\n",
    "import numpy as np\n",
    "import matplotlib.pyplot as plt\n",
    "from scipy.optimize import curve_fit\n",
    "data2 = np.loadtxt('Dataset_Q2.csv',delimiter=',')\n",
    "sorted_data2=data2[np.argsort(data2[:,2])]\n",
    "m=sorted_data2[:,0]\n",
    "t=sorted_data2[:,1]\n",
    "a=sorted_data2[:,2]\n",
    "y=t*np.sqrt(1+m)\n",
    "print('m: Mass of moon as a fraction of mass of Endor')\n",
    "print('t: Time Period in Endor days')\n",
    "print('a: Semi-major axis as a fraction of radius of Endor')\n",
    "print('b: (4*pi*pi/G)^(1/2)')\n",
    "plt.plot(a,y,'ro')\n",
    "def f(x1, x,b):\n",
    "    return b*np.power(x1,x)\n",
    "params, extras= curve_fit(f,a,y)\n",
    "x,b = params;\n",
    "plt.plot(a,f(a, x,b), '-', label='y=b*a^x')\n",
    "plt.xlabel('a')\n",
    "plt.ylabel('y=t*(1+m)^(1/2)')\n",
    "plt.legend()\n",
    "plt.show()\n",
    "\n",
    "\n",
    "\n",
    "\n",
    "\n"
   ]
  },
  {
   "cell_type": "code",
   "execution_count": 6,
   "metadata": {},
   "outputs": [
    {
     "name": "stdout",
     "output_type": "stream",
     "text": [
      "x=2.57423266186401\n",
      "Gravitational Constant in the given unit system= 39.47841760435743\n"
     ]
    }
   ],
   "source": [
    "print('x={}'.format(x))\n",
    "G = 4*np.pi*np.pi/b*b\n",
    "print('Gravitational Constant in the given unit system= {}'.format(G))"
   ]
  },
  {
   "cell_type": "markdown",
   "metadata": {},
   "source": [
    "## Q2 Bonus (10 points): \n",
    "Make a plot of the power law curve you have found, and the scatter plot the data points on top of this curve, to establish that your fit is good."
   ]
  },
  {
   "cell_type": "code",
   "execution_count": null,
   "metadata": {},
   "outputs": [],
   "source": [
    "# Code here"
   ]
  }
 ],
 "metadata": {
  "kernelspec": {
   "display_name": "Python 3",
   "language": "python",
   "name": "python3"
  },
  "language_info": {
   "codemirror_mode": {
    "name": "ipython",
    "version": 3
   },
   "file_extension": ".py",
   "mimetype": "text/x-python",
   "name": "python",
   "nbconvert_exporter": "python",
   "pygments_lexer": "ipython3",
   "version": "3.8.5"
  }
 },
 "nbformat": 4,
 "nbformat_minor": 5
}
